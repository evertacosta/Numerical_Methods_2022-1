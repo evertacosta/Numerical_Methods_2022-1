{
 "cells": [
  {
   "cell_type": "code",
   "execution_count": 5,
   "metadata": {
    "collapsed": true
   },
   "outputs": [
    {
     "data": {
      "text/plain": "      fun: 0.0\n hess_inv: array([[1, 0],\n       [0, 1]])\n      jac: array([1.49011612e-08, 1.49011612e-08])\n  message: 'Optimization terminated successfully.'\n     nfev: 3\n      nit: 0\n     njev: 1\n   status: 0\n  success: True\n        x: array([0., 0.])"
     },
     "execution_count": 5,
     "metadata": {},
     "output_type": "execute_result"
    }
   ],
   "source": [
    "from scipy import optimize\n",
    "\n",
    "def funcion(param):\n",
    "    x, y = param\n",
    "    return x**2 + 2*x*y + y**2 - 4*x\n",
    "\n",
    "def funcion2(param):\n",
    "    x, y = param\n",
    "    return x**2 + y**2\n",
    "\n",
    "res = optimize.minimize(funcion2, [0, 0], bounds=)\n",
    "\n",
    "res"
   ]
  }
 ],
 "metadata": {
  "kernelspec": {
   "display_name": "Python 3",
   "language": "python",
   "name": "python3"
  },
  "language_info": {
   "codemirror_mode": {
    "name": "ipython",
    "version": 2
   },
   "file_extension": ".py",
   "mimetype": "text/x-python",
   "name": "python",
   "nbconvert_exporter": "python",
   "pygments_lexer": "ipython2",
   "version": "2.7.6"
  }
 },
 "nbformat": 4,
 "nbformat_minor": 0
}
